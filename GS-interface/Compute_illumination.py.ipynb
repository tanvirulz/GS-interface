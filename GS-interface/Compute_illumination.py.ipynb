{
 "cells": [
  {
   "cell_type": "code",
   "execution_count": 3,
   "metadata": {},
   "outputs": [],
   "source": [
    "import numpy as np"
   ]
  },
  {
   "cell_type": "code",
   "execution_count": 1,
   "metadata": {},
   "outputs": [
    {
     "name": "stdout",
     "output_type": "stream",
     "text": [
      "st 1562169600\n"
     ]
    }
   ],
   "source": [
    "from gsclasses import Eps \n",
    "\n",
    "#st=1560716400 #start_time 17th June\n",
    "st= 1562169600 #july 4 00:00 \n",
    "#et=1561104130 #end_time \n",
    "#et=1561950429 #end_time  28th June\n",
    "#et=1561976513 #end_time  1st July\n",
    "#et=1562060929 # 2nd July\n",
    "\n",
    "#et=1562123058 # 3rd July\n",
    "#et=1562209657 #3th july\n",
    "et = 1562577717 # July 8\n",
    "#et = None \n",
    "#st = None\n",
    "#et = None\n",
    "DB_NAME = \"SWGS13\"\n",
    "#DB_NAME = \"SWGS\"\n",
    "\n",
    "eps = Eps.EPS(dbname=DB_NAME,start_time=st, end_time=et) \n",
    "print (\"st\",st)\n",
    "eps.reload()\n",
    "\n",
    "#eps.test_load()\n",
    "\n",
    "#self.params['Cin_0']\n",
    "\n"
   ]
  },
  {
   "cell_type": "code",
   "execution_count": 13,
   "metadata": {},
   "outputs": [],
   "source": [
    "cx_val = eps.params['Cin_0'].Vals[::-1]\n",
    "cy_val = eps.params['Cin_1'].Vals[::-1]\n",
    "cz_val = eps.params['Cin_2'].Vals[::-1]"
   ]
  },
  {
   "cell_type": "code",
   "execution_count": 12,
   "metadata": {},
   "outputs": [],
   "source": [
    "cx_t = eps.params['Cin_0'].Ts[::-1]\n",
    "cy_t = eps.params['Cin_1'].Ts[::-1]\n",
    "cz_t = eps.params['Cin_2'].Ts[::-1]"
   ]
  },
  {
   "cell_type": "code",
   "execution_count": null,
   "metadata": {},
   "outputs": [],
   "source": []
  },
  {
   "cell_type": "code",
   "execution_count": 14,
   "metadata": {},
   "outputs": [],
   "source": [
    "period = 1562180280- 1562174640"
   ]
  },
  {
   "cell_type": "code",
   "execution_count": 15,
   "metadata": {},
   "outputs": [],
   "source": [
    "integration_start = 1562173500"
   ]
  },
  {
   "cell_type": "code",
   "execution_count": 16,
   "metadata": {},
   "outputs": [],
   "source": [
    "num_orbit = int ((et - integration_start)/ period )"
   ]
  },
  {
   "cell_type": "code",
   "execution_count": 17,
   "metadata": {},
   "outputs": [],
   "source": [
    "orbit_mid_t = [ integration_start + (period*i)/2.0 for i in range(num_orbit)]"
   ]
  },
  {
   "cell_type": "code",
   "execution_count": 32,
   "metadata": {},
   "outputs": [],
   "source": [
    "def piecewise_integrate(y,x,integration_start,period,count):\n",
    "    ry = []\n",
    "    rx = []\n",
    "    for i in range(count-1):\n",
    "        #print(\"test\")\n",
    "        #print(integration_start+i*period)\n",
    "        a = integration_start+i*period\n",
    "        #print(a)\n",
    "        b = integration_start+(i+1)*period\n",
    "        #print(b)\n",
    "        ai =  np.searchsorted(x, 1562173500, side='left', sorter=None)\n",
    "        #print (ai)\n",
    "        #print (x)\n",
    "        bi =  np.searchsorted(x, b, side='left', sorter=None)\n",
    "        np.trapz(y[ai:bi], x[ai:bi])\n",
    "        ry.append(np.trapz(y[ai:bi], x[ai:bi]))\n",
    "        rx.append(int(a+b)/2)\n",
    "    return ry, rx "
   ]
  },
  {
   "cell_type": "code",
   "execution_count": 33,
   "metadata": {},
   "outputs": [],
   "source": [
    "rxv,rxt = piecewise_integrate(cx_val,cx_t,integration_start,period,num_orbit)\n",
    "ryv,ryt = piecewise_integrate(cy_val,cy_t,integration_start,period,num_orbit)\n",
    "rzv,rzt = piecewise_integrate(cz_val,cz_t,integration_start,period,num_orbit)"
   ]
  },
  {
   "cell_type": "code",
   "execution_count": 36,
   "metadata": {},
   "outputs": [
    {
     "data": {
      "text/plain": [
       "70"
      ]
     },
     "execution_count": 36,
     "metadata": {},
     "output_type": "execute_result"
    }
   ],
   "source": [
    "len(rxv)"
   ]
  },
  {
   "cell_type": "code",
   "execution_count": 41,
   "metadata": {},
   "outputs": [],
   "source": [
    "nxv = []\n",
    "nyv = []\n",
    "nzv = []\n",
    "for i in range(len(rxv) ):\n",
    "    tot = (rxv[i]+ryv[i]+rzv[i])\n",
    "    nxv.append(rxv[i]/tot)\n",
    "    nyv.append(ryv[i]/tot)\n",
    "    nzv.append(rzv[i]/tot)"
   ]
  },
  {
   "cell_type": "code",
   "execution_count": null,
   "metadata": {},
   "outputs": [],
   "source": []
  }
 ],
 "metadata": {
  "kernelspec": {
   "display_name": "Python 3",
   "language": "python",
   "name": "python3"
  },
  "language_info": {
   "codemirror_mode": {
    "name": "ipython",
    "version": 3
   },
   "file_extension": ".py",
   "mimetype": "text/x-python",
   "name": "python",
   "nbconvert_exporter": "python",
   "pygments_lexer": "ipython3",
   "version": "3.5.2"
  }
 },
 "nbformat": 4,
 "nbformat_minor": 2
}
