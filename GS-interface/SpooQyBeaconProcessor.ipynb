{
 "cells": [
  {
   "cell_type": "code",
   "execution_count": 1,
   "metadata": {},
   "outputs": [],
   "source": [
    "import pandas as pd"
   ]
  },
  {
   "cell_type": "code",
   "execution_count": 2,
   "metadata": {},
   "outputs": [],
   "source": [
    "folder = \"Result_SWGS28\"\n",
    "file_prefix = \"SWZcurdata_\"\n",
    "\n"
   ]
  },
  {
   "cell_type": "code",
   "execution_count": 3,
   "metadata": {},
   "outputs": [],
   "source": [
    "def load_and_clean(file):\n",
    "    df = pd.read_csv(file)\n",
    "    cur_data_raw = df[\"curData\"].tolist()\n",
    "    #print (cur_data_raw)\n",
    "    clean_data = []\n",
    "    for x in cur_data_raw:\n",
    "        if \"b'\\\\x\" in x:\n",
    "            #print (\"hex\")\n",
    "            clean_data.append(x[4:6])\n",
    "        else :\n",
    "            \n",
    "            clean_data.append(str(hex(ord(x[2])))[2:])\n",
    "    #print (clean_data)\n",
    "    df[\"cleanData\"] = clean_data\n",
    "    return df"
   ]
  },
  {
   "cell_type": "code",
   "execution_count": 7,
   "metadata": {},
   "outputs": [],
   "source": [
    "a_file = folder+\"/\"+file_prefix+str(0)"
   ]
  },
  {
   "cell_type": "code",
   "execution_count": 8,
   "metadata": {},
   "outputs": [],
   "source": [
    "all_data = []\n",
    "all_df = pd.DataFrame()"
   ]
  },
  {
   "cell_type": "code",
   "execution_count": 9,
   "metadata": {},
   "outputs": [],
   "source": [
    "for i in range(32):\n",
    "    file = folder+\"/\"+file_prefix+str(i)\n",
    "    df = load_and_clean(file)\n",
    "    all_df[str(i)] = df[\"cleanData\"]\n",
    "    all_data.append(df)\n",
    "    \n"
   ]
  },
  {
   "cell_type": "code",
   "execution_count": 10,
   "metadata": {},
   "outputs": [],
   "source": [
    "one_df = load_and_clean(a_file)"
   ]
  },
  {
   "cell_type": "code",
   "execution_count": null,
   "metadata": {},
   "outputs": [],
   "source": []
  },
  {
   "cell_type": "code",
   "execution_count": 11,
   "metadata": {},
   "outputs": [],
   "source": [
    "all_df[\"Timestamp\"] = one_df[\"Timestamp\"]"
   ]
  },
  {
   "cell_type": "code",
   "execution_count": 12,
   "metadata": {},
   "outputs": [],
   "source": [
    "all_df[\"date-time\"] = one_df[\"date-time\"]"
   ]
  },
  {
   "cell_type": "code",
   "execution_count": 13,
   "metadata": {},
   "outputs": [],
   "source": [
    "beacons = []\n",
    "for index, row in all_df.iterrows():\n",
    "    x = \"\"\n",
    "    for i in range(32):\n",
    "        x = x+row[str(i)]\n",
    "    beacons.append(x)\n",
    "len(beacons)\n",
    "all_df[\"beacons\"] = beacons"
   ]
  },
  {
   "cell_type": "code",
   "execution_count": 15,
   "metadata": {},
   "outputs": [],
   "source": [
    "all_df.to_csv(\"Swiss_beacons_combined.csv\")\n"
   ]
  },
  {
   "cell_type": "markdown",
   "metadata": {},
   "source": [
    "## Beacon Matchin code here"
   ]
  },
  {
   "cell_type": "code",
   "execution_count": 47,
   "metadata": {},
   "outputs": [
    {
     "name": "stderr",
     "output_type": "stream",
     "text": [
      "/home/odin/.local/lib/python3.5/site-packages/IPython/core/interactiveshell.py:3020: DtypeWarning: Columns (4,6,14,15,20,30,31) have mixed types. Specify dtype option on import or set low_memory=False.\n",
      "  interactivity=interactivity, compiler=compiler, result=result)\n"
     ]
    }
   ],
   "source": [
    "#nus_df = pd.read_csv(\"NUS_beacons_combined.csv\")\n",
    "swiss_df = pd.read_csv(\"Swiss_beacons_combined.csv\")"
   ]
  },
  {
   "cell_type": "code",
   "execution_count": 48,
   "metadata": {},
   "outputs": [],
   "source": [
    "nus_df = pd.read_csv(\"NUS_beacons_combined.csv\")"
   ]
  },
  {
   "cell_type": "code",
   "execution_count": 49,
   "metadata": {},
   "outputs": [],
   "source": [
    "nus_beacons = nus_df[\"beacons\"].unique().tolist()"
   ]
  },
  {
   "cell_type": "code",
   "execution_count": 50,
   "metadata": {},
   "outputs": [],
   "source": [
    "swiss_beacons = swiss_df[\"beacons\"].unique().tolist()"
   ]
  },
  {
   "cell_type": "code",
   "execution_count": 51,
   "metadata": {},
   "outputs": [
    {
     "name": "stdout",
     "output_type": "stream",
     "text": [
      "match ff00000000000000000000000000000000000000000000000000000000000000\n",
      "match 0000000000000000000000000000000000000000000000000000000000000000\n",
      "match 8e9befc918d6d62327465b05e194130807a3f9d615708e3d9720f450d2a37f3e\n",
      "match df9a2a92e84213907e06ae4b7b15cc9ee44dac9390ec0ed94bcd045f7a265cbd\n",
      "match ccdbd21ba31ae07bc84267a7e0a5e2f40f2bcf92b94a1d1ef6c885fa2a070035\n",
      "match 587431e5f03e489198aa27f53fc7525c62ec9bd6126d94d60fd21f31e09f52ae\n",
      "match d423d4c3538c2d4c6cbe3f0e145ddd8f59035dc9004177ed6ad86326a916b289\n",
      "match c6b6a31df3acbafba30f35a1f675d595042cc527ca64f125b4654165a4754e91\n",
      "match abb9b5484e86b5fcbce9e16c4e9178f7d82fc4750f3b5c3ca5e6ce5eb687222d\n"
     ]
    }
   ],
   "source": [
    "same_beacons = []\n",
    "for x in nus_beacons:\n",
    "    for y in swiss_beacons:\n",
    "        if x == y : \n",
    "            print (\"match\",x)\n",
    "            same_beacons.append(x)"
   ]
  },
  {
   "cell_type": "code",
   "execution_count": 24,
   "metadata": {},
   "outputs": [],
   "source": [
    "Singapore_date_time = []\n",
    "Singapoer_tiemstamp = []\n",
    "for bx in same_beacons:\n",
    "    \n",
    "    for index, row in nus_df.iterrows():\n",
    "        if row[\"beacons\"] == bx :\n",
    "            Singapore_date_time.append(row[\"date-time\"])\n",
    "            Singapoer_tiemstamp.append(row[\"Timestamp\"])\n",
    "            break\n"
   ]
  },
  {
   "cell_type": "code",
   "execution_count": 30,
   "metadata": {},
   "outputs": [],
   "source": [
    "Swiss_date_time = []\n",
    "Swiss_tiemstamp = []\n",
    "for bx in same_beacons:\n",
    "    \n",
    "    for index, row in swiss_df.iterrows():\n",
    "        if row[\"beacons\"] == bx :\n",
    "            Swiss_date_time.append(row[\"date-time\"])\n",
    "            Swiss_tiemstamp.append(row[\"Timestamp\"])\n",
    "            break\n"
   ]
  },
  {
   "cell_type": "code",
   "execution_count": 32,
   "metadata": {},
   "outputs": [
    {
     "data": {
      "text/plain": [
       "['2020-02-25 15:01:31',\n",
       " '2020-02-27 14:51:01',\n",
       " '2020-02-21 20:12:30',\n",
       " '2020-02-18 22:48:00',\n",
       " '2020-02-14 23:14:00',\n",
       " '2020-02-12 23:25:00',\n",
       " '2020-02-12 00:13:00',\n",
       " '2020-02-10 23:36:00',\n",
       " '2019-10-02 05:57:00']"
      ]
     },
     "execution_count": 32,
     "metadata": {},
     "output_type": "execute_result"
    }
   ],
   "source": [
    "Swiss_date_time"
   ]
  },
  {
   "cell_type": "code",
   "execution_count": 52,
   "metadata": {},
   "outputs": [],
   "source": [
    "def find_matched_time(same_beacons,df):\n",
    "    date_time_list = []\n",
    "    tiemstamps_list = []\n",
    "    for bx in same_beacons:\n",
    "        for index, row in df.iterrows():\n",
    "            if row[\"beacons\"] == bx :\n",
    "                date_time_list.append(row[\"date-time\"])\n",
    "                tiemstamps_list.append(row[\"Timestamp\"])\n",
    "                break\n",
    "    return date_time_list, tiemstamps_list\n",
    "            "
   ]
  },
  {
   "cell_type": "code",
   "execution_count": 53,
   "metadata": {},
   "outputs": [],
   "source": [
    "Singapore_date_time, Singapor_tiemstamp = find_matched_time(same_beacons,nus_df)"
   ]
  },
  {
   "cell_type": "code",
   "execution_count": 54,
   "metadata": {},
   "outputs": [],
   "source": [
    "Swiss_date_time, Swiss_tiemstamp = find_matched_time(same_beacons,swiss_df)"
   ]
  },
  {
   "cell_type": "code",
   "execution_count": 55,
   "metadata": {},
   "outputs": [],
   "source": [
    "final_df = pd.DataFrame()"
   ]
  },
  {
   "cell_type": "code",
   "execution_count": 58,
   "metadata": {},
   "outputs": [],
   "source": [
    "final_df[\"Singapore_date_time\"]  = Singapore_date_time\n",
    "final_df[\"Singapor_tiemstamp\"] = Singapor_tiemstamp\n",
    "final_df[\"Swiss_date_time\"]  = Swiss_date_time\n",
    "final_df[\"Swiss_tiemstamp\"] = Swiss_tiemstamp\n",
    "final_df[\"beacons\"] = same_beacons\n"
   ]
  },
  {
   "cell_type": "code",
   "execution_count": 59,
   "metadata": {},
   "outputs": [],
   "source": [
    "final_df.to_csv(\"SG_SWISS_matchedBeacons.csv\")"
   ]
  },
  {
   "cell_type": "code",
   "execution_count": null,
   "metadata": {},
   "outputs": [],
   "source": []
  }
 ],
 "metadata": {
  "kernelspec": {
   "display_name": "Python 3",
   "language": "python",
   "name": "python3"
  },
  "language_info": {
   "codemirror_mode": {
    "name": "ipython",
    "version": 3
   },
   "file_extension": ".py",
   "mimetype": "text/x-python",
   "name": "python",
   "nbconvert_exporter": "python",
   "pygments_lexer": "ipython3",
   "version": "3.5.2"
  }
 },
 "nbformat": 4,
 "nbformat_minor": 2
}
